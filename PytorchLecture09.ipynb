{
 "cells": [
  {
   "cell_type": "markdown",
   "metadata": {},
   "source": [
    "# Softmax\n",
    "\n",
    "![softmax](img/09-softmax.png)\n",
    "\n",
    "## 과정 \n",
    "\n",
    "Let's say **X** is our Input.\n",
    "\n",
    "1. LINEAR MODEL : z = WX+b \n",
    "\n",
    "2. z is our score(=logit). We use **softmax** function to make these scores into probabilities. So, y_hat = s(z), where s = softmax.\n",
    "\n",
    "3. through cross entropy, we make our predictions into 1 hot labeles.\n",
    "\n",
    "\n",
    "## cost function : cross entropy\n",
    "\n",
    "![cross entropy](img/09-crossentropy.png)"
   ]
  },
  {
   "cell_type": "code",
   "execution_count": 7,
   "metadata": {},
   "outputs": [
    {
     "name": "stdout",
     "output_type": "stream",
     "text": [
      "loss1 =  0.35667494393873245\n",
      "loss1 =  2.3025850929940455\n"
     ]
    }
   ],
   "source": [
    "# Cross entropy example\n",
    "import numpy as np\n",
    "# One hot\n",
    "# 0: 1 0 0\n",
    "# 1: 0 1 0\n",
    "# 2: 0 0 1\n",
    "Y = np.array([1,0,0])\n",
    "\n",
    "Y_pred1 = np.array([0.7,0.2,0.1])\n",
    "Y_pred2 = np.array([0.1,0.3,0.6])\n",
    "\n",
    "print(\"loss1 = \",np.sum(-Y*np.log(Y_pred1)))\n",
    "print(\"loss1 = \",np.sum(-Y*np.log(Y_pred2)))"
   ]
  },
  {
   "cell_type": "markdown",
   "metadata": {},
   "source": [
    "## Cross Entropy in PyTorch\n",
    "\n",
    "```python\n",
    "loss = nn.CrossEntropyLoss()\n",
    "l1 = loss(y_pred1, Y)\n",
    "```\n",
    "\n",
    "이렇게 설정하여 사용할 수 있는데, 이때 주의할점 두가지!\n",
    "\n",
    "* CrossEntropyLoss의 두번째 인자는 one hot value가 아닌 Class다. <br><br>\n",
    "\n",
    "* CrossEntropyLoss의 첫번째 인자는 softmax 한 후의 값이 아닌 그냥 logit을 넣으면 된다. 왜냐면 pytorch가 제공하는 CrossEntropyLoss에 softmax 함수 로직까지 포함되어 있기 때문이다.\n",
    "\n",
    "\n"
   ]
  }
 ],
 "metadata": {
  "kernelspec": {
   "display_name": "Python 3",
   "language": "python",
   "name": "python3"
  },
  "language_info": {
   "codemirror_mode": {
    "name": "ipython",
    "version": 3
   },
   "file_extension": ".py",
   "mimetype": "text/x-python",
   "name": "python",
   "nbconvert_exporter": "python",
   "pygments_lexer": "ipython3",
   "version": "3.7.6"
  }
 },
 "nbformat": 4,
 "nbformat_minor": 4
}
