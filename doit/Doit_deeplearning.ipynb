{
  "nbformat": 4,
  "nbformat_minor": 0,
  "metadata": {
    "colab": {
      "name": "Doit-deeplearning.ipynb",
      "provenance": [],
      "collapsed_sections": [],
      "authorship_tag": "ABX9TyNq8lqCW67FcPYVa9JPxfzK",
      "include_colab_link": true
    },
    "kernelspec": {
      "name": "python3",
      "display_name": "Python 3"
    }
  },
  "cells": [
    {
      "cell_type": "markdown",
      "metadata": {
        "id": "view-in-github",
        "colab_type": "text"
      },
      "source": [
        "<a href=\"https://colab.research.google.com/github/chloejiwon/deeplearning_basics-pytorch/blob/master/Doit_deeplearning.ipynb\" target=\"_parent\"><img src=\"https://colab.research.google.com/assets/colab-badge.svg\" alt=\"Open In Colab\"/></a>"
      ]
    },
    {
      "cell_type": "markdown",
      "metadata": {
        "id": "a5NMfD2DNHIP"
      },
      "source": [
        "# Neural Net 만드는 단계\n",
        "\n",
        "1. Dataset 정의\n",
        " * x 와 target 정의 (regression인지 classfication인지)\n",
        " * train / evaluate / test Dataset 나누기\n",
        "1. Activation 함수 정의\n",
        "1. Loss 함수(=cost, object function) 정의\n",
        " * NN의 방법에 따라 logistic regression = Corss Entropy\n",
        " * Regression = RMSE \n",
        "1. Optimization 함수 정의\n",
        "1. Hyperparameter 정의"
      ]
    },
    {
      "cell_type": "markdown",
      "metadata": {
        "id": "sG3306dg0vZF"
      },
      "source": [
        "#03-1. Regression"
      ]
    },
    {
      "cell_type": "code",
      "metadata": {
        "id": "pSwv4UTerFz7"
      },
      "source": [
        "from sklearn.datasets import load_diabetes\n",
        "diabetes = load_diabetes()"
      ],
      "execution_count": 21,
      "outputs": []
    },
    {
      "cell_type": "code",
      "metadata": {
        "colab": {
          "base_uri": "https://localhost:8080/"
        },
        "id": "DrSyb01RrL6Z",
        "outputId": "a83567b4-7dfc-42f1-d2e2-fa2cef235f7e"
      },
      "source": [
        "print(diabetes.data.shape, diabetes.target.shape)"
      ],
      "execution_count": 24,
      "outputs": [
        {
          "output_type": "stream",
          "text": [
            "(442, 10) (442,)\n"
          ],
          "name": "stdout"
        }
      ]
    },
    {
      "cell_type": "code",
      "metadata": {
        "colab": {
          "base_uri": "https://localhost:8080/"
        },
        "id": "rPNxNg8ErOEt",
        "outputId": "0a7e2088-5b12-4348-af8b-b6a7979b1ec1"
      },
      "source": [
        "diabetes.data[:3]"
      ],
      "execution_count": 27,
      "outputs": [
        {
          "output_type": "execute_result",
          "data": {
            "text/plain": [
              "array([[ 0.03807591,  0.05068012,  0.06169621,  0.02187235, -0.0442235 ,\n",
              "        -0.03482076, -0.04340085, -0.00259226,  0.01990842, -0.01764613],\n",
              "       [-0.00188202, -0.04464164, -0.05147406, -0.02632783, -0.00844872,\n",
              "        -0.01916334,  0.07441156, -0.03949338, -0.06832974, -0.09220405],\n",
              "       [ 0.08529891,  0.05068012,  0.04445121, -0.00567061, -0.04559945,\n",
              "        -0.03419447, -0.03235593, -0.00259226,  0.00286377, -0.02593034]])"
            ]
          },
          "metadata": {
            "tags": []
          },
          "execution_count": 27
        }
      ]
    },
    {
      "cell_type": "code",
      "metadata": {
        "colab": {
          "base_uri": "https://localhost:8080/"
        },
        "id": "jyRcieX6re8M",
        "outputId": "f1a74dbb-0d14-464e-b2d3-167c242fea6b"
      },
      "source": [
        "diabetes.target[:3]"
      ],
      "execution_count": 26,
      "outputs": [
        {
          "output_type": "execute_result",
          "data": {
            "text/plain": [
              "array([151.,  75., 141.])"
            ]
          },
          "metadata": {
            "tags": []
          },
          "execution_count": 26
        }
      ]
    },
    {
      "cell_type": "code",
      "metadata": {
        "colab": {
          "base_uri": "https://localhost:8080/",
          "height": 279
        },
        "id": "vgffO4MRripk",
        "outputId": "a53538c3-0953-43f3-dbe6-4b26667b7489"
      },
      "source": [
        "import matplotlib.pyplot as plt\n",
        "\n",
        "plt.scatter(diabetes.data[:, 2], diabetes.target)\n",
        "plt.xlabel('x')\n",
        "plt.ylabel('y')\n",
        "plt.show()"
      ],
      "execution_count": 28,
      "outputs": [
        {
          "output_type": "display_data",
          "data": {
            "image/png": "[encoded data removed]",
            "text/plain": [
              "<Figure size 432x288 with 1 Axes>"
            ]
          },
          "metadata": {
            "tags": [],
            "needs_background": "light"
          }
        }
      ]
    },
    {
      "cell_type": "code",
      "metadata": {
        "id": "IJX1CDAkrxXJ"
      },
      "source": [
        "# 훈련 데이터 준비하기\n",
        "x = diabetes.data[:, 2]\n",
        "y = diabetes.target"
      ],
      "execution_count": 29,
      "outputs": []
    },
    {
      "cell_type": "markdown",
      "metadata": {
        "id": "QHc8Wj3Ysm7U"
      },
      "source": [
        "## 훈련데이터에 잘 맞는 w와 b를 찾는 방법 (=> 올바른 모델 찾기)\n",
        "\n",
        "1. 무작위로 w와 b를 정한다. (무작위로 모델 만들기)\n",
        "1. x에서 샘플 하나를 선택해서 y_Hat을 계산한다. (무작위로 모델 예측하기)\n",
        "1. y_hat과 선택한 샘플의 진짜 y를 비교한다. (예측값 - 정답 비교)\n",
        "1. y_hat과 y가 가까워지도록 w, b를 조정한다. (모델 조정하기)\n",
        "1. 모든 샘플을 처리할 때 까지 2~4를 반복"
      ]
    },
    {
      "cell_type": "code",
      "metadata": {
        "id": "_oMJcI4Ar9At"
      },
      "source": [
        "# 1. w와 b를 초기화하기\n",
        "w = 1.0\n",
        "b = 1.0"
      ],
      "execution_count": 30,
      "outputs": []
    },
    {
      "cell_type": "code",
      "metadata": {
        "colab": {
          "base_uri": "https://localhost:8080/"
        },
        "id": "Mx4b7_n5y4nz",
        "outputId": "331c1399-35a3-42c7-d56d-ba596d7f85d1"
      },
      "source": [
        "# 2. 훈련데이터의 첫번째 샘플 데이터로 y_hat 게산하기\n",
        "y_hat = x[0] * w + b\n",
        "print(y_hat)"
      ],
      "execution_count": 31,
      "outputs": [
        {
          "output_type": "stream",
          "text": [
            "1.0616962065186886\n"
          ],
          "name": "stdout"
        }
      ]
    },
    {
      "cell_type": "code",
      "metadata": {
        "colab": {
          "base_uri": "https://localhost:8080/"
        },
        "id": "Y4-DxQNpy-y2",
        "outputId": "c7c64bc6-f201-41b0-d5a3-5bcf941c8995"
      },
      "source": [
        "# 3. target과 비교하기\n",
        "print(y[0])"
      ],
      "execution_count": 32,
      "outputs": [
        {
          "output_type": "stream",
          "text": [
            "151.0\n"
          ],
          "name": "stdout"
        }
      ]
    },
    {
      "cell_type": "code",
      "metadata": {
        "colab": {
          "base_uri": "https://localhost:8080/"
        },
        "id": "2EdL1V1lzBoh",
        "outputId": "3a986189-d42f-46d4-dc08-04a9443d9fd4"
      },
      "source": [
        "# 4. y_hat과 y가 가까워지도록 w 값 조정하기 \n",
        "# 151.0과 1.06..은 차이가 많이 크다. 그래서 조정을 해야하는데... 어떤 방향으로 바꿔야 가까워지는 방향으로 갈까? -> w와 b를 조금씩 변경해서 y_hat 증가하는지 감소하는지 봐보자.\n",
        "w_inc = w + 0.1\n",
        "y_hat_inc = x[0] * w_inc + b\n",
        "print(y_hat_inc)"
      ],
      "execution_count": 33,
      "outputs": [
        {
          "output_type": "stream",
          "text": [
            "1.0678658271705574\n"
          ],
          "name": "stdout"
        }
      ]
    },
    {
      "cell_type": "code",
      "metadata": {
        "colab": {
          "base_uri": "https://localhost:8080/"
        },
        "id": "lWMOTdpYzXf9",
        "outputId": "b9d74068-bd4c-44f1-f0ba-643d86fdd565"
      },
      "source": [
        "# 4번에서 보니 w를 0.1만큼 증가시키니까 Y_hat이 커졌다. -> w, b를 증가하는 방향으로 가야겠다!\n",
        "# 5. 그러면 w값 조정 후 예측값 증가 정도를 확인해보자.\n",
        "w_rate = (y_hat_inc - y_hat) / (w_inc - w)\n",
        "print(w_rate)"
      ],
      "execution_count": 34,
      "outputs": [
        {
          "output_type": "stream",
          "text": [
            "0.061696206518688734\n"
          ],
          "name": "stdout"
        }
      ]
    },
    {
      "cell_type": "markdown",
      "metadata": {
        "id": "3qOLyrwezqdS"
      },
      "source": [
        "위에서 print된 값 0.06xxx는 x[0] 에 대한 w 의 변화율 = x[0] (수식을 통해 정리하면)\n",
        "\n",
        "결론적으로 이 문제를 효율적으로 해결하는 방법은 **변화율** 자체에 있다.\n",
        "\n",
        "변화율이 0보다 크다면? w가 증가하면 y_hat도 증가한다는 뜻. \n",
        "\n",
        "변화율이 0보다 작다면? w가 감소하면 y_hat이 증가한다.\n",
        "\n",
        "즉, 변화율이 양수든 음수든, w에 변화율만큼 더하면 y_hat은 증가하는 방향으로 간다. \n",
        "\n"
      ]
    },
    {
      "cell_type": "code",
      "metadata": {
        "colab": {
          "base_uri": "https://localhost:8080/"
        },
        "id": "rgYp87m3zmhi",
        "outputId": "44fd737f-ec42-4564-a4c5-88c5e08bbd40"
      },
      "source": [
        "# w 업데이트하기\n",
        "w_new = w + w_rate\n",
        "print(w_new)"
      ],
      "execution_count": 35,
      "outputs": [
        {
          "output_type": "stream",
          "text": [
            "1.0616962065186888\n"
          ],
          "name": "stdout"
        }
      ]
    },
    {
      "cell_type": "code",
      "metadata": {
        "colab": {
          "base_uri": "https://localhost:8080/"
        },
        "id": "2KN8tYE90kOu",
        "outputId": "75a8c30e-63c5-4037-afe1-b9d06415b2e8"
      },
      "source": [
        "# 절편에 대해서도 변화율을 구하고 update 해보자\n",
        "b_inc = b + 0.1\n",
        "y_hat_inc = x[0] * w + b_inc\n",
        "print(y_hat_inc)\n",
        "\n",
        "b_rate = (y_hat_inc - y_hat) / (b_inc - b)\n",
        "print(b_rate)\n",
        "\n",
        "b_new = b + 1\n",
        "print(b_new)"
      ],
      "execution_count": 37,
      "outputs": [
        {
          "output_type": "stream",
          "text": [
            "1.1616962065186887\n",
            "1.0\n",
            "2.0\n"
          ],
          "name": "stdout"
        }
      ]
    },
    {
      "cell_type": "code",
      "metadata": {
        "colab": {
          "base_uri": "https://localhost:8080/"
        },
        "id": "cQgGgJq00v5Q",
        "outputId": "78296daa-d5a7-4f5f-d411-35982c6bbf20"
      },
      "source": [
        "err = y[0] - y_hat\n",
        "w_new = w + w_rate * err\n",
        "b_new = b + b_rate * err\n",
        "print(w_new, b_new)\n",
        "\n",
        "y_hat = x[1] * w_new + b_new\n",
        "err = y[1] - y_hat\n",
        "w_rate = x[1]\n",
        "w_new = w_new + w_rate * err\n",
        "b_new = b_new + 1*err\n",
        "print(w_new, b_new)"
      ],
      "execution_count": 38,
      "outputs": [
        {
          "output_type": "stream",
          "text": [
            "10.250624555904514 150.9383037934813\n",
            "14.132317616381767 75.52764127612664\n"
          ],
          "name": "stdout"
        }
      ]
    },
    {
      "cell_type": "code",
      "metadata": {
        "colab": {
          "base_uri": "https://localhost:8080/"
        },
        "id": "wjpt6Dl81jUB",
        "outputId": "b40d1b93-06f7-40ed-f733-50f640b7b6f6"
      },
      "source": [
        "for x_i, y_i in zip(x, y):\n",
        "  y_hat = x_i * w + b\n",
        "  err = y_i - y_hat\n",
        "  w += x_i * err\n",
        "  b += 1 * err\n",
        "\n",
        "print(w, b)"
      ],
      "execution_count": 39,
      "outputs": [
        {
          "output_type": "stream",
          "text": [
            "587.8654539985689 99.40935564531424\n"
          ],
          "name": "stdout"
        }
      ]
    },
    {
      "cell_type": "code",
      "metadata": {
        "colab": {
          "base_uri": "https://localhost:8080/",
          "height": 296
        },
        "id": "ijpSG9Cy11TL",
        "outputId": "fd56037d-1142-4906-80fc-c55f40a458a2"
      },
      "source": [
        "plt.scatter(x, y)\n",
        "pt1 = (-0.1, -0.1*w+b)\n",
        "pt2 = (0.15, 0.15*w+b)\n",
        "plt.plot([pt1[0], pt2[0]], [pt1[1], pt2[1]])\n",
        "plt.xlabel('x')\n",
        "plt.ylabel('y')"
      ],
      "execution_count": 41,
      "outputs": [
        {
          "output_type": "execute_result",
          "data": {
            "text/plain": [
              "Text(0, 0.5, 'y')"
            ]
          },
          "metadata": {
            "tags": []
          },
          "execution_count": 41
        },
        {
          "output_type": "display_data",
          "data": {
            "image/png": "[encoded data removed]",
            "text/plain": [
              "<Figure size 432x288 with 1 Axes>"
            ]
          },
          "metadata": {
            "tags": [],
            "needs_background": "light"
          }
        }
      ]
    },
    {
      "cell_type": "code",
      "metadata": {
        "colab": {
          "base_uri": "https://localhost:8080/"
        },
        "id": "-gJJtwAa2DBc",
        "outputId": "bd7b3ca9-050a-460e-a789-ea212b4ff342"
      },
      "source": [
        "for i in range(1, 100):\n",
        "  for x_i, y_i in zip(x,y):\n",
        "    y_hat = x_i * w + b\n",
        "    err = y_i - y_hat\n",
        "    w_rate = x_i\n",
        "    w += w_rate * err\n",
        "    b += err\n",
        "print(w, b)"
      ],
      "execution_count": 42,
      "outputs": [
        {
          "output_type": "stream",
          "text": [
            "913.5973364345905 123.39414383177204\n"
          ],
          "name": "stdout"
        }
      ]
    },
    {
      "cell_type": "code",
      "metadata": {
        "colab": {
          "base_uri": "https://localhost:8080/",
          "height": 296
        },
        "id": "iSfr8tss2Xbq",
        "outputId": "949c3a89-c1a9-4e7e-b11b-32a0634b0061"
      },
      "source": [
        "plt.scatter(x, y)\n",
        "pt1 = (-0.1, -0.1*w+b)\n",
        "pt2 = (0.15, 0.15*w+b)\n",
        "plt.plot([pt1[0], pt2[0]], [pt1[1], pt2[1]])\n",
        "plt.xlabel('x')\n",
        "plt.ylabel('y')"
      ],
      "execution_count": 43,
      "outputs": [
        {
          "output_type": "execute_result",
          "data": {
            "text/plain": [
              "Text(0, 0.5, 'y')"
            ]
          },
          "metadata": {
            "tags": []
          },
          "execution_count": 43
        },
        {
          "output_type": "display_data",
          "data": {
            "image/png": "[encoded data removed]",
            "text/plain": [
              "<Figure size 432x288 with 1 Axes>"
            ]
          },
          "metadata": {
            "tags": [],
            "needs_background": "light"
          }
        }
      ]
    },
    {
      "cell_type": "code",
      "metadata": {
        "colab": {
          "base_uri": "https://localhost:8080/"
        },
        "id": "CoTSQXTA2Zkf",
        "outputId": "78309387-17fb-4041-eede-aca023ad7dcb"
      },
      "source": [
        "# 6. 이제 예측하자\n",
        "x_new = 0.18\n",
        "y_pred = x_new * w + b\n",
        "print(y_pred)"
      ],
      "execution_count": 44,
      "outputs": [
        {
          "output_type": "stream",
          "text": [
            "287.8416643899983\n"
          ],
          "name": "stdout"
        }
      ]
    },
    {
      "cell_type": "code",
      "metadata": {
        "colab": {
          "base_uri": "https://localhost:8080/",
          "height": 279
        },
        "id": "NMwignXH2fqS",
        "outputId": "7cbfc53e-7d5f-43a7-ce6a-9c752096098a"
      },
      "source": [
        "plt.scatter(x, y)\n",
        "plt.scatter(x_new, y_pred)\n",
        "plt.xlabel('x')\n",
        "plt.ylabel('y')\n",
        "plt.show()"
      ],
      "execution_count": 51,
      "outputs": [
        {
          "output_type": "display_data",
          "data": {
            "image/png": "[encoded data removed]",
            "text/plain": [
              "<Figure size 432x288 with 1 Axes>"
            ]
          },
          "metadata": {
            "tags": [],
            "needs_background": "light"
          }
        }
      ]
    },
    {
      "cell_type": "markdown",
      "metadata": {
        "id": "L5jaweFw2uRB"
      },
      "source": [
        "#03-4. 선형회귀를 위한 뉴런\n",
        "\n",
        "Gradient Descent 는 어떤 손실함수(loss function)이 정의되었을 때 손실함수의 값이 최소가 되는 지점을 찾아가는 방법."
      ]
    },
    {
      "cell_type": "code",
      "metadata": {
        "id": "edek-KLp2lpI"
      },
      "source": [
        "class Neuron:\n",
        "  def __init__(self):\n",
        "    self.w = 1.0\n",
        "    self.b = 1.0\n",
        "\n",
        "  def forpass(self, x):\n",
        "    y_hat = x * self.w + self.b\n",
        "    return y_hat\n",
        "  \n",
        "  def backprop(self, x, err):\n",
        "    w_grad = x * err\n",
        "    b_grad = err\n",
        "    return w_grad, b_grad\n",
        "\n",
        "  def fit(self, x, y, epochs = 100):\n",
        "    for i in range(epochs):\n",
        "      for x_i, y_i in zip(x, y):\n",
        "        y_hat = self.forpass(x_i)\n",
        "        err = -(y_i - y_hat)\n",
        "        w_grad, b_grad = self.backprop(x_i, err)\n",
        "        self.w -= w_grad\n",
        "        self.b -= b_grad"
      ],
      "execution_count": 66,
      "outputs": []
    },
    {
      "cell_type": "code",
      "metadata": {
        "id": "_8wz6HyT3-E7"
      },
      "source": [
        "neuron = Neuron()\n",
        "neuron.fit(x, y)"
      ],
      "execution_count": 67,
      "outputs": []
    },
    {
      "cell_type": "code",
      "metadata": {
        "colab": {
          "base_uri": "https://localhost:8080/",
          "height": 279
        },
        "id": "V-aGv3ZK4e8x",
        "outputId": "03ca6b54-b0e7-4156-b8ac-0c2478f470e2"
      },
      "source": [
        "plt.scatter(x, y)\n",
        "pt1 = (-0.1, -0.1 * neuron.w + neuron.b)\n",
        "pt2 = (0.15, 0.15 * neuron.w + neuron.b)\n",
        "plt.plot([pt1[0], pt2[0]], [pt1[1], pt2[1]])\n",
        "plt.xlabel('x')\n",
        "plt.ylabel('y')\n",
        "plt.show()"
      ],
      "execution_count": 68,
      "outputs": [
        {
          "output_type": "display_data",
          "data": {
            "image/png": "[encoded data removed]",
            "text/plain": [
              "<Figure size 432x288 with 1 Axes>"
            ]
          },
          "metadata": {
            "tags": [],
            "needs_background": "light"
          }
        }
      ]
    },
    {
      "cell_type": "markdown",
      "metadata": {
        "id": "dNthTH_I7jaZ"
      },
      "source": [
        "# 04. Logistic Regression"
      ]
    },
    {
      "cell_type": "code",
      "metadata": {
        "id": "r1um3sKL6F2J"
      },
      "source": [
        "from sklearn.datasets import load_breast_cancer\n",
        "cancer = load_breast_cancer()"
      ],
      "execution_count": 69,
      "outputs": []
    },
    {
      "cell_type": "code",
      "metadata": {
        "colab": {
          "base_uri": "https://localhost:8080/"
        },
        "id": "FKwvK9YIwdU3",
        "outputId": "408fe5d4-5b0d-44a7-da19-622538ae2400"
      },
      "source": [
        "print(cancer.data.shape, cancer.target.shape)"
      ],
      "execution_count": 70,
      "outputs": [
        {
          "output_type": "stream",
          "text": [
            "(569, 30) (569,)\n"
          ],
          "name": "stdout"
        }
      ]
    },
    {
      "cell_type": "code",
      "metadata": {
        "colab": {
          "base_uri": "https://localhost:8080/",
          "height": 279
        },
        "id": "53Xh7opxwfI6",
        "outputId": "2a816c2e-0502-4f17-d803-5232b7dd1c98"
      },
      "source": [
        "import matplotlib.pyplot as plt\n",
        "\n",
        "plt.boxplot(cancer.data)\n",
        "plt.xlabel('feature')\n",
        "plt.ylabel('value')\n",
        "plt.show()"
      ],
      "execution_count": 71,
      "outputs": [
        {
          "output_type": "display_data",
          "data": {
            "image/png": "[encoded data removed]",
            "text/plain": [
              "<Figure size 432x288 with 1 Axes>"
            ]
          },
          "metadata": {
            "tags": [],
            "needs_background": "light"
          }
        }
      ]
    },
    {
      "cell_type": "code",
      "metadata": {
        "colab": {
          "base_uri": "https://localhost:8080/"
        },
        "id": "Qatkxwm8wthd",
        "outputId": "7dd013dd-a92b-4518-e695-5f049590988b"
      },
      "source": [
        "cancer.feature_names[[3,13,23]]"
      ],
      "execution_count": 72,
      "outputs": [
        {
          "output_type": "execute_result",
          "data": {
            "text/plain": [
              "array(['mean area', 'area error', 'worst area'], dtype='<U23')"
            ]
          },
          "metadata": {
            "tags": []
          },
          "execution_count": 72
        }
      ]
    },
    {
      "cell_type": "code",
      "metadata": {
        "colab": {
          "base_uri": "https://localhost:8080/"
        },
        "id": "dEL2T92pw2Qb",
        "outputId": "d684d550-b714-466a-8638-ed40fefdaf45"
      },
      "source": [
        "import numpy as np\n",
        "\n",
        "np.unique(cancer.target, return_counts=True)"
      ],
      "execution_count": 73,
      "outputs": [
        {
          "output_type": "execute_result",
          "data": {
            "text/plain": [
              "(array([0, 1]), array([212, 357]))"
            ]
          },
          "metadata": {
            "tags": []
          },
          "execution_count": 73
        }
      ]
    },
    {
      "cell_type": "code",
      "metadata": {
        "id": "IV8URNwiw9gG"
      },
      "source": [
        "x = cancer.data\n",
        "y = cancer.target"
      ],
      "execution_count": 74,
      "outputs": []
    },
    {
      "cell_type": "code",
      "metadata": {
        "id": "S2QN35rFxDcl"
      },
      "source": [
        "from sklearn.model_selection import train_test_split\n",
        "\n",
        "x_train, x_test, y_train, y_test = train_test_split(x, y, stratify = y, test_size = 0.2, random_state = 42)"
      ],
      "execution_count": 75,
      "outputs": []
    },
    {
      "cell_type": "markdown",
      "metadata": {
        "id": "q37AElvixsjL"
      },
      "source": [
        "* stratify = y\n",
        "stratify는 train data 를 나눌때 class 비율을 동일하게 만든다.\n",
        "train_test_split()함수는 기본적으로 데이터를 나누기 전에 섞지만, 일부 클래스 비율이 불균형한 경우엔 stratify=y 옵션을 주어야 한다.\n",
        "\n",
        "* test_size = 0.2\n",
        "기본적으로 train_test_split()함수는 Train dataset을 75:25 비율로 나눈다. test_size 매개변수 옵션을 주면 비율 조절이 가능하다. 0.2는 Dataset의 20%를 테스트셋으로 나누기 위함\n",
        "\n",
        "* random_state = 42\n",
        "train_test_split() 은 Dataset을 섞은 다음 나눈다. 섞은 다음 나눈 결과가 항상 일정하도록 난수 초기값을 random_state에 42로 설정해둔 것."
      ]
    },
    {
      "cell_type": "code",
      "metadata": {
        "colab": {
          "base_uri": "https://localhost:8080/"
        },
        "id": "SqSwEV1xxo4e",
        "outputId": "8373ce48-c6a9-4e2b-fb94-965e89026fd5"
      },
      "source": [
        "print(x_train.shape, x_test.shape)"
      ],
      "execution_count": 76,
      "outputs": [
        {
          "output_type": "stream",
          "text": [
            "(455, 30) (114, 30)\n"
          ],
          "name": "stdout"
        }
      ]
    },
    {
      "cell_type": "code",
      "metadata": {
        "colab": {
          "base_uri": "https://localhost:8080/"
        },
        "id": "U-iA3CZfyXfS",
        "outputId": "8e73f717-6bed-4b12-9a0d-a0b0a17cb3bc"
      },
      "source": [
        "np.unique(y_train, return_counts = True)"
      ],
      "execution_count": 77,
      "outputs": [
        {
          "output_type": "execute_result",
          "data": {
            "text/plain": [
              "(array([0, 1]), array([170, 285]))"
            ]
          },
          "metadata": {
            "tags": []
          },
          "execution_count": 77
        }
      ]
    },
    {
      "cell_type": "code",
      "metadata": {
        "id": "FMFFGFazygDy"
      },
      "source": [
        "class LogisticNeuron:\n",
        "  def __init__(self):\n",
        "    self.w = None\n",
        "    self.b = None\n",
        "\n",
        "  def forpass(self, x):\n",
        "    z = np.sum(x * self.w) + self.b\n",
        "    return z\n",
        "\n",
        "  def backprop(self, x, err):\n",
        "    w_grad = x * err\n",
        "    b_grad = 1 * err\n",
        "    return w_grad, b_grad\n",
        "\n",
        "  def fit(self, x, y, epochs=100):\n",
        "    # parameter 초기화\n",
        "    self.w = np.ones(x.shape[1])\n",
        "    self.b = 0\n",
        "\n",
        "    # train \n",
        "    for i in range(epochs):\n",
        "      for x_i, y_i in zip(x, y):\n",
        "        z = self.forpass(x_i)\n",
        "        a = self.activations(z)\n",
        "        err = -(y_i - a)\n",
        "        w_grad, b_grad = self.backprop(x_i, err)\n",
        "        self.w -= w_grad\n",
        "        self.b -= b_grad\n",
        "  \n",
        "  def activations(self, z):\n",
        "    a = 1 / (1 + np.exp(-z))\n",
        "    return a\n",
        "\n",
        "  def predict(self, x):\n",
        "    z = [self.forpass(x_i) for x_i in x]\n",
        "    a = self.activations(np.array(z))\n",
        "    return a > 0.5"
      ],
      "execution_count": 79,
      "outputs": []
    },
    {
      "cell_type": "code",
      "metadata": {
        "colab": {
          "base_uri": "https://localhost:8080/"
        },
        "id": "aUZv-iwzz4_W",
        "outputId": "0ed520d1-396f-45af-eb83-3a0e3e18f965"
      },
      "source": [
        "neuron = LogisticNeuron()\n",
        "neuron.fit(x_train, y_train)"
      ],
      "execution_count": 80,
      "outputs": [
        {
          "output_type": "stream",
          "text": [
            "/usr/local/lib/python3.6/dist-packages/ipykernel_launcher.py:31: RuntimeWarning: overflow encountered in exp\n"
          ],
          "name": "stderr"
        }
      ]
    },
    {
      "cell_type": "code",
      "metadata": {
        "colab": {
          "base_uri": "https://localhost:8080/"
        },
        "id": "tRfL1MrN0Wh6",
        "outputId": "c4beab4d-a12f-44d3-a124-77db99b30ec9"
      },
      "source": [
        "np.mean(neuron.predict(x_test) == y_test)"
      ],
      "execution_count": 81,
      "outputs": [
        {
          "output_type": "stream",
          "text": [
            "/usr/local/lib/python3.6/dist-packages/ipykernel_launcher.py:31: RuntimeWarning: overflow encountered in exp\n"
          ],
          "name": "stderr"
        },
        {
          "output_type": "execute_result",
          "data": {
            "text/plain": [
              "0.8245614035087719"
            ]
          },
          "metadata": {
            "tags": []
          },
          "execution_count": 81
        }
      ]
    },
    {
      "cell_type": "code",
      "metadata": {
        "id": "Mr9-KlZi0abB"
      },
      "source": [
        "class SingleLayer:\n",
        "  def __init__(self):\n",
        "    self.w = None\n",
        "    self.b = None\n",
        "    self.losses = []\n",
        "\n",
        "  def forpass(self, x):\n",
        "    z = np.sum(x * self.w) + self.b\n",
        "    return z\n",
        "\n",
        "  def backprop(self, x, err):\n",
        "    w_grad = x * err\n",
        "    b_grad = 1 * err\n",
        "    return w_grad, b_grad\n",
        "\n",
        "  def add_bias(self, x):\n",
        "    return np.c_[np.ones((x.shape[0], 1)), x]\n",
        "\n",
        "  def fit(self, x, y, epochs = 100):\n",
        "    self.w = np.ones(x.shape[1])\n",
        "    self.b = 0\n",
        "    for i in range(epochs):\n",
        "      loss = 0\n",
        "      indexs = np.random.permutation(np.arange(len(x)))\n",
        "      for i in indexs:\n",
        "        z = self.forpass(x[i])\n",
        "        a = self.activation(z)\n",
        "        err = -(y[i] - a)\n",
        "        w_grad, b_grad = self.backprop(x[i], err)\n",
        "        self.w -= w_grad\n",
        "        self.b -= b_grad\n",
        "\n",
        "        a = np.clip(a, 1e-10, 1-1e-10)\n",
        "        loss += -(y[i] * np.log(a) + (1-y[i]) * np.log(1-a))\n",
        "      self.losses.append(loss / len(y))\n",
        "\n",
        "  def activation(self, z):\n",
        "    a = 1 / (1 + np.exp(-z))\n",
        "    return a\n",
        "\n",
        "  def predict(self, x):\n",
        "    z = [self.forpass(x_i) for x_i in x]\n",
        "    return np.array(z) > 0\n",
        "\n",
        "  def score(self, x, y):\n",
        "    return np.mean(self.predict(x) == y)"
      ],
      "execution_count": 94,
      "outputs": []
    },
    {
      "cell_type": "code",
      "metadata": {
        "colab": {
          "base_uri": "https://localhost:8080/"
        },
        "id": "DVc_g-4u4cbK",
        "outputId": "53870538-4dd0-4fa7-cb69-09694b0fb0e4"
      },
      "source": [
        "layer = SingleLayer()\n",
        "layer.fit(x_train, y_train)\n",
        "layer.score(x_test, y_test)"
      ],
      "execution_count": 95,
      "outputs": [
        {
          "output_type": "stream",
          "text": [
            "/usr/local/lib/python3.6/dist-packages/ipykernel_launcher.py:38: RuntimeWarning: overflow encountered in exp\n"
          ],
          "name": "stderr"
        },
        {
          "output_type": "execute_result",
          "data": {
            "text/plain": [
              "0.9298245614035088"
            ]
          },
          "metadata": {
            "tags": []
          },
          "execution_count": 95
        }
      ]
    },
    {
      "cell_type": "code",
      "metadata": {
        "colab": {
          "base_uri": "https://localhost:8080/",
          "height": 283
        },
        "id": "QBD1tPLi5HEi",
        "outputId": "147b352c-e1bc-45cf-aad7-fd43725dfc01"
      },
      "source": [
        "plt.plot(layer.losses)\n",
        "plt.xlabel('epoch')\n",
        "plt.ylabel('loss')\n",
        "plt.show()"
      ],
      "execution_count": 96,
      "outputs": [
        {
          "output_type": "display_data",
          "data": {
            "image/png": "[encoded data removed]",
            "text/plain": [
              "<Figure size 432x288 with 1 Axes>"
            ]
          },
          "metadata": {
            "tags": [],
            "needs_background": "light"
          }
        }
      ]
    },
    {
      "cell_type": "code",
      "metadata": {
        "id": "-IAAkQKi5W28"
      },
      "source": [
        "from sklearn.linear_model import SGDClassifier\n",
        "sgd = SGDClassifier(loss='log', max_iter=100, tol=1e-3, random_state=42)"
      ],
      "execution_count": 98,
      "outputs": []
    },
    {
      "cell_type": "markdown",
      "metadata": {
        "id": "JYQi3nmP6GOR"
      },
      "source": [
        "* tol\n",
        "반복할때마다 로지스틱 손실 함수의 값이 tol에 지정한 값만큼 감소되지 않으면, 반복 중단\n",
        "=> 모델의 loss 가 최적값으로 수렴할 정도로 충분한 반복 횟수 입력했는가?"
      ]
    },
    {
      "cell_type": "code",
      "metadata": {
        "colab": {
          "base_uri": "https://localhost:8080/"
        },
        "id": "gzTjWc4i5mn2",
        "outputId": "c4966925-09ef-462d-c261-cbf6b736e994"
      },
      "source": [
        "sgd.fit(x_train, y_train)\n",
        "sgd.score(x_test, y_test)"
      ],
      "execution_count": 99,
      "outputs": [
        {
          "output_type": "execute_result",
          "data": {
            "text/plain": [
              "0.8333333333333334"
            ]
          },
          "metadata": {
            "tags": []
          },
          "execution_count": 99
        }
      ]
    },
    {
      "cell_type": "code",
      "metadata": {
        "colab": {
          "base_uri": "https://localhost:8080/"
        },
        "id": "2l9fikwE6VqV",
        "outputId": "30493c7f-3b0a-4379-cb4f-c02a479bf30d"
      },
      "source": [
        "sgd.predict(x_test[0:10])"
      ],
      "execution_count": 100,
      "outputs": [
        {
          "output_type": "execute_result",
          "data": {
            "text/plain": [
              "array([0, 1, 0, 0, 0, 0, 1, 0, 0, 0])"
            ]
          },
          "metadata": {
            "tags": []
          },
          "execution_count": 100
        }
      ]
    },
    {
      "cell_type": "code",
      "metadata": {
        "colab": {
          "base_uri": "https://localhost:8080/"
        },
        "id": "ZhlllCsX6Yuc",
        "outputId": "a5a02932-65ce-4a41-afc0-11d1d6da8da9"
      },
      "source": [
        "print(y_test[0:10])"
      ],
      "execution_count": 101,
      "outputs": [
        {
          "output_type": "stream",
          "text": [
            "[0 1 0 1 0 1 1 0 0 0]\n"
          ],
          "name": "stdout"
        }
      ]
    },
    {
      "cell_type": "code",
      "metadata": {
        "id": "KdiNuB836bif"
      },
      "source": [
        ""
      ],
      "execution_count": null,
      "outputs": []
    }
  ]
}