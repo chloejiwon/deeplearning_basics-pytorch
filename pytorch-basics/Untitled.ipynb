{
 "cells": [
  {
   "cell_type": "code",
   "execution_count": 1,
   "metadata": {},
   "outputs": [],
   "source": [
    "import pandas as pd\n",
    "import csv\n",
    "import threading\n",
    "from time import sleep"
   ]
  },
  {
   "cell_type": "code",
   "execution_count": 2,
   "metadata": {},
   "outputs": [
    {
     "name": "stdout",
     "output_type": "stream",
     "text": [
      "감염자 식별 번호를 입력하세요: 1\n"
     ]
    }
   ],
   "source": [
    "routes = pd.read_csv(\"./routes.csv\")\n",
    "number = input(\"감염자 식별 번호를 입력하세요: \")"
   ]
  },
  {
   "cell_type": "code",
   "execution_count": 7,
   "metadata": {},
   "outputs": [
    {
     "name": "stdout",
     "output_type": "stream",
     "text": [
      "37.3662544840548\n",
      "37.3662506489716\n",
      "37.3670513797659\n",
      "37.3664880111159\n",
      "37.3661803572205\n",
      "37.3661381071082\n",
      "37.367073558573104\n",
      "37.3667920386405\n",
      "37.3666643098445\n",
      "37.366340028323606\n",
      "37.366197637690796\n",
      "[1, 37.366197637690796, 127.105424243355, '2020-06-12', '11:54:12']\n",
      "37.3661728635431\n",
      "[1, 37.3661728635431, 127.10547501952298, '2020-06-12', '12:02:43']\n",
      "37.366171159440896\n",
      "[1, 37.366171159440896, 127.105417257141, '2020-06-12', '12:01:54']\n",
      "37.3661562397893\n",
      "[1, 37.3661562397893, 127.105474435548, '2020-06-12', '11:50:06']\n",
      "37.36616524264829\n",
      "[1, 37.36616524264829, 127.10545564973499, '2020-06-12', '11:52:12']\n",
      "37.366145653292605\n",
      "[1, 37.366145653292605, 127.10540277129499, '2020-06-12', '11:54:15']\n",
      "37.3661523856711\n",
      "[1, 37.3661523856711, 127.10543885663, '2020-06-12', '11:50:19']\n",
      "37.36616727321329\n",
      "[1, 37.36616727321329, 127.10541148113998, '2020-06-12', '11:53:06']\n"
     ]
    },
    {
     "ename": "KeyboardInterrupt",
     "evalue": "",
     "output_type": "error",
     "traceback": [
      "\u001b[0;31m---------------------------------------------------------------------------\u001b[0m",
      "\u001b[0;31mKeyboardInterrupt\u001b[0m                         Traceback (most recent call last)",
      "\u001b[0;32m<ipython-input-7-9e81084e1fd0>\u001b[0m in \u001b[0;36m<module>\u001b[0;34m\u001b[0m\n\u001b[1;32m     12\u001b[0m         \u001b[0mvals\u001b[0m\u001b[0;34m.\u001b[0m\u001b[0mappend\u001b[0m\u001b[0;34m(\u001b[0m\u001b[0mtimestamp\u001b[0m\u001b[0;34m)\u001b[0m\u001b[0;34m\u001b[0m\u001b[0;34m\u001b[0m\u001b[0m\n\u001b[1;32m     13\u001b[0m         \u001b[0mprint\u001b[0m\u001b[0;34m(\u001b[0m\u001b[0mvals\u001b[0m\u001b[0;34m)\u001b[0m\u001b[0;34m\u001b[0m\u001b[0;34m\u001b[0m\u001b[0m\n\u001b[0;32m---> 14\u001b[0;31m         \u001b[0msleep\u001b[0m\u001b[0;34m(\u001b[0m\u001b[0;36m1\u001b[0m\u001b[0;34m)\u001b[0m\u001b[0;34m\u001b[0m\u001b[0;34m\u001b[0m\u001b[0m\n\u001b[0m",
      "\u001b[0;31mKeyboardInterrupt\u001b[0m: "
     ]
    }
   ],
   "source": [
    "    number = int(number)\n",
    "    for row in routes.itertuples():\n",
    "        print(row[2])\n",
    "        if int(row.id) is number:\n",
    "            vals = []\n",
    "            vals.append(row.id)\n",
    "            vals.append(row.location_n)\n",
    "            vals.append(row.location_e)\n",
    "            # row.time parsing\n",
    "            date,timestamp = row.time.split()\n",
    "            vals.append(date)\n",
    "            vals.append(timestamp)\n",
    "            print(vals)\n",
    "            sleep(1)"
   ]
  },
  {
   "cell_type": "code",
   "execution_count": null,
   "metadata": {},
   "outputs": [],
   "source": []
  }
 ],
 "metadata": {
  "kernelspec": {
   "display_name": "Python 3",
   "language": "python",
   "name": "python3"
  },
  "language_info": {
   "codemirror_mode": {
    "name": "ipython",
    "version": 3
   },
   "file_extension": ".py",
   "mimetype": "text/x-python",
   "name": "python",
   "nbconvert_exporter": "python",
   "pygments_lexer": "ipython3",
   "version": "3.7.6"
  }
 },
 "nbformat": 4,
 "nbformat_minor": 4
}
