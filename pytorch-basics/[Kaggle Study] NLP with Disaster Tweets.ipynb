{
 "cells": [
  {
   "cell_type": "markdown",
   "metadata": {},
   "source": [
    "### 순서가 상관 없는 문자 데이터를 처리할 때면 ? \n",
    "\n",
    "어떤 문장의 **주제** 정도만 알고 싶다면, 순서가 상관없을 수도 있음\n",
    "\n",
    "사람의 입장에서 생각해볼 때 예를 들어 \"읽었다 재밌어서 그 책을 하루종일\" 대충 책에 대한 얘기를 하는구나~ 정도 이해할 수 있듯이 말이다. \n",
    "\n",
    "이렇게 순서가 상관 없는 문장을 표현하는 방법으론 이런 것들이 있다.\n",
    "\n",
    "#### Bag of Words (BoW)\n",
    "\n",
    "문장의 단어의 one-hot-vector 을 합하면 BoW이 된다. \n",
    "\n",
    "여기서 one-hot-vector란, 단어 한개를 한 개의 column vector로 표현한 것이다. 모든 dataset에 등장하는 unique vocab을 뽑고 각 단어마다 하나의 column vector 로 만든 것. \n",
    "\n",
    "결국 BoW vector는 Nx1 매트릭스에 문장 안에 포함되어 있는 단어가 몇 번 들어가있는지 빈도수 (frequency)를 표시하는 것이다.\n",
    "\n",
    "그리고 BoW는 순서를 고려하지 않는다. 그저 frequency만 고려될 뿐... 🤪\n",
    "\n",
    "#### N-Gram\n",
    "\n",
    "연속된 n개의 단어 뭉치를 의미한다. 예를 들어 [I, love, mongsil]을 bigram으로 표현한다면 [I love, love mongsil] 이 된다. \n",
    "\n",
    "bi-gram까지 고려하면 [I, love, mongsil, I love, love monsil] 로 vocabulary가 늘어나게 된다.\n",
    "\n",
    "downside는 당연히 데이터 문장이 늘어나게 되면 vocabulary 사이즈가 미친듯이 늘어나게 된다. \n",
    "\n"
   ]
  },
  {
   "attachments": {
    "image.png": {
     "image/png": "[encoded data removed]"
    }
   },
   "cell_type": "markdown",
   "metadata": {},
   "source": [
    "근데 순서 상관이 없어도 좀 더 중요한 데이터가 있지 않을까?\n",
    "\n",
    "## term frequency - inverse document frequency(tf-idf)\n",
    "\n",
    "단어 간 빈도수에 따라 중요도를 계산하여 고려하는 방법\n",
    "\n",
    "- term frequency (tf) : 현재 문서(문장)에서의 단어의 빈도수\n",
    "\n",
    "- document frequency (df): 이 단어가 나오는 문서(문장) 총 개수\n",
    "\n",
    "조사나 관사는 tf, df 둘다 높다. 하지만 \"스포츠\", \"펭수\" 같은 것은 tf가 df보단 상대적으로 높을 것이다. \n",
    "\n",
    "![image.png](attachment:image.png)\n",
    "\n",
    "tf 를 비례하여 계산하되 다른 문서에서도 너무 많이 나오는 것은 중요도를 낮추어 계산한다. 😎 (조사일 가능성이 높기 때문)\n",
    "\n",
    "tf-idf vector는 Nx1 vector 모양의 BoW vector에서 tf 점수를 idf로 normalize 한 것\n"
   ]
  },
  {
   "cell_type": "markdown",
   "metadata": {},
   "source": [
    "단점은 뭘까? \n",
    "\n",
    "1) Data 가 커질수록 (=문장이 길어지고 많아질수록) vocabulary 가 계속해서 증가..\n",
    "\n",
    "2) 단어와 단어 사이의 유사성을 수학적으로 파악할 수 없음. one-hot-vector 끼리의 내적은 아무리 해도 0\n",
    "\n",
    "3) 당연히 순서 중요한 문제에는 못 씀"
   ]
  },
  {
   "cell_type": "code",
   "execution_count": 1,
   "metadata": {},
   "outputs": [
    {
     "name": "stdout",
     "output_type": "stream",
     "text": [
      "Requirement already satisfied: nltk in /opt/conda/lib/python3.6/site-packages (3.5)\n",
      "Requirement already satisfied: joblib in /opt/conda/lib/python3.6/site-packages (from nltk) (0.16.0)\n",
      "Requirement already satisfied: click in /opt/conda/lib/python3.6/site-packages (from nltk) (7.1.2)\n",
      "Requirement already satisfied: tqdm in /opt/conda/lib/python3.6/site-packages (from nltk) (4.47.0)\n",
      "Requirement already satisfied: regex in /opt/conda/lib/python3.6/site-packages (from nltk) (2020.6.8)\n",
      "\u001b[33mWARNING: You are using pip version 20.0.2; however, version 20.1.1 is available.\n",
      "You should consider upgrading via the '/opt/conda/bin/python -m pip install --upgrade pip' command.\u001b[0m\n"
     ]
    }
   ],
   "source": [
    "!pip install nltk"
   ]
  },
  {
   "cell_type": "code",
   "execution_count": 6,
   "metadata": {},
   "outputs": [
    {
     "name": "stdout",
     "output_type": "stream",
     "text": [
      "NLTK Downloader\n",
      "---------------------------------------------------------------------------\n",
      "    d) Download   l) List    u) Update   c) Config   h) Help   q) Quit\n",
      "---------------------------------------------------------------------------\n",
      "Downloader> d\n",
      "\n",
      "Download which package (l=list; x=cancel)?\n",
      "  Identifier> punkt\n"
     ]
    },
    {
     "name": "stderr",
     "output_type": "stream",
     "text": [
      "    Downloading package punkt to /root/nltk_data...\n",
      "      Unzipping tokenizers/punkt.zip.\n"
     ]
    },
    {
     "name": "stdout",
     "output_type": "stream",
     "text": [
      "\n",
      "---------------------------------------------------------------------------\n",
      "    d) Download   l) List    u) Update   c) Config   h) Help   q) Quit\n",
      "---------------------------------------------------------------------------\n",
      "Downloader> q\n"
     ]
    },
    {
     "data": {
      "text/plain": [
       "True"
      ]
     },
     "execution_count": 6,
     "metadata": {},
     "output_type": "execute_result"
    }
   ],
   "source": [
    "import nltk\n",
    "nltk.download()"
   ]
  },
  {
   "cell_type": "code",
   "execution_count": 3,
   "metadata": {},
   "outputs": [
    {
     "name": "stdout",
     "output_type": "stream",
     "text": [
      "Collecting konlpy\n",
      "  Downloading konlpy-0.5.2-py2.py3-none-any.whl (19.4 MB)\n",
      "\u001b[K     |████████████████████████████████| 19.4 MB 5.7 MB/s eta 0:00:01    |█                               | 655 kB 813 kB/s eta 0:00:24     |████▌                           | 2.7 MB 1.5 MB/s eta 0:00:12     |██████▋                         | 4.0 MB 1.5 MB/s eta 0:00:11     |████████████████████            | 12.1 MB 6.2 MB/s eta 0:00:02     |█████████████████████▌          | 13.1 MB 6.2 MB/s eta 0:00:02     |██████████████████████▌         | 13.6 MB 6.2 MB/s eta 0:00:01     |███████████████████████████████▎| 19.0 MB 5.7 MB/s eta 0:00:01     |████████████████████████████████| 19.4 MB 5.7 MB/s eta 0:00:01\n",
      "\u001b[?25hCollecting JPype1>=0.7.0\n",
      "  Downloading JPype1-0.7.5-cp36-cp36m-manylinux2010_x86_64.whl (3.6 MB)\n",
      "\u001b[K     |████████████████████████████████| 3.6 MB 5.4 MB/s eta 0:00:01     |██████████▊                     | 1.2 MB 5.4 MB/s eta 0:00:01     |████████████████████████▋       | 2.8 MB 5.4 MB/s eta 0:00:01     |███████████████████████████     | 3.0 MB 5.4 MB/s eta 0:00:01\n",
      "\u001b[?25hRequirement already satisfied: numpy>=1.6 in /opt/conda/lib/python3.6/site-packages (from konlpy) (1.16.2)\n",
      "Collecting tweepy>=3.7.0\n",
      "  Downloading tweepy-3.8.0-py2.py3-none-any.whl (28 kB)\n",
      "Collecting beautifulsoup4==4.6.0\n",
      "  Downloading beautifulsoup4-4.6.0-py3-none-any.whl (86 kB)\n",
      "\u001b[K     |████████████████████████████████| 86 kB 4.5 MB/s  eta 0:00:01\n",
      "\u001b[?25hCollecting colorama\n",
      "  Downloading colorama-0.4.3-py2.py3-none-any.whl (15 kB)\n",
      "Collecting lxml>=4.1.0\n",
      "  Downloading lxml-4.5.1-cp36-cp36m-manylinux1_x86_64.whl (5.5 MB)\n",
      "\u001b[K     |████████████████████████████████| 5.5 MB 2.6 MB/s eta 0:00:01     |██████████████████████████████▊ | 5.3 MB 2.6 MB/s eta 0:00:01\n",
      "\u001b[?25hRequirement already satisfied: requests>=2.11.1 in /opt/conda/lib/python3.6/site-packages (from tweepy>=3.7.0->konlpy) (2.21.0)\n",
      "Collecting requests-oauthlib>=0.7.0\n",
      "  Downloading requests_oauthlib-1.3.0-py2.py3-none-any.whl (23 kB)\n",
      "Requirement already satisfied: PySocks>=1.5.7 in /opt/conda/lib/python3.6/site-packages (from tweepy>=3.7.0->konlpy) (1.6.8)\n",
      "Requirement already satisfied: six>=1.10.0 in /opt/conda/lib/python3.6/site-packages (from tweepy>=3.7.0->konlpy) (1.12.0)\n",
      "Requirement already satisfied: idna<2.9,>=2.5 in /opt/conda/lib/python3.6/site-packages (from requests>=2.11.1->tweepy>=3.7.0->konlpy) (2.8)\n",
      "Requirement already satisfied: certifi>=2017.4.17 in /opt/conda/lib/python3.6/site-packages (from requests>=2.11.1->tweepy>=3.7.0->konlpy) (2019.3.9)\n",
      "Requirement already satisfied: urllib3<1.25,>=1.21.1 in /opt/conda/lib/python3.6/site-packages (from requests>=2.11.1->tweepy>=3.7.0->konlpy) (1.24.1)\n",
      "Requirement already satisfied: chardet<3.1.0,>=3.0.2 in /opt/conda/lib/python3.6/site-packages (from requests>=2.11.1->tweepy>=3.7.0->konlpy) (3.0.4)\n",
      "Collecting oauthlib>=3.0.0\n",
      "  Downloading oauthlib-3.1.0-py2.py3-none-any.whl (147 kB)\n",
      "\u001b[K     |████████████████████████████████| 147 kB 7.8 MB/s eta 0:00:01\n",
      "\u001b[?25hInstalling collected packages: JPype1, oauthlib, requests-oauthlib, tweepy, beautifulsoup4, colorama, lxml, konlpy\n",
      "Successfully installed JPype1-0.7.5 beautifulsoup4-4.6.0 colorama-0.4.3 konlpy-0.5.2 lxml-4.5.1 oauthlib-3.1.0 requests-oauthlib-1.3.0 tweepy-3.8.0\n",
      "\u001b[33mWARNING: You are using pip version 20.0.2; however, version 20.1.1 is available.\n",
      "You should consider upgrading via the '/opt/conda/bin/python -m pip install --upgrade pip' command.\u001b[0m\n"
     ]
    }
   ],
   "source": [
    "!pip install konlpy"
   ]
  },
  {
   "cell_type": "code",
   "execution_count": 4,
   "metadata": {},
   "outputs": [
    {
     "data": {
      "text/plain": [
       "'0.5.2'"
      ]
     },
     "execution_count": 4,
     "metadata": {},
     "output_type": "execute_result"
    }
   ],
   "source": [
    "import konlpy\n",
    "konlpy.__version__"
   ]
  },
  {
   "cell_type": "code",
   "execution_count": 7,
   "metadata": {},
   "outputs": [
    {
     "name": "stdout",
     "output_type": "stream",
     "text": [
      "['I', 'am', 'actively', 'looking', 'for', 'Ph.D.', 'students', '.', 'and', 'you', 'are', 'a', 'Ph.D.', 'student', '.']\n"
     ]
    }
   ],
   "source": [
    "from nltk.tokenize import word_tokenize\n",
    "text=\"I am actively looking for Ph.D. students. and you are a Ph.D. student.\"\n",
    "print(word_tokenize(text))"
   ]
  },
  {
   "cell_type": "markdown",
   "metadata": {},
   "source": [
    "## 단어의 관계를 고려해보자 : word embedding \n",
    "\n",
    "### Distributional Hypothesis 단어는 주변 단어들에 의해 정리된다\n",
    "\n",
    "### Word Embedding (word vector)란?\n",
    "\n",
    "임베딩은 고차원 벡터의 변환을 통해 생성할 수 있는 상대적인 저차원 공간 \n",
    "\n",
    "임베딩을 사용하면 단어를 나타내는 희소 벡터와 같이 커다란 입력값에 대해 머신러닝을 더 쉽게 수행할 수 있다\n",
    "\n",
    "\n",
    "### Glove \n",
    "\n",
    "**SVD** 알고리즘을 사용하여 차원을 축소해 압축해 버림. \n",
    "\n",
    "### neural net을 이용한 word2vec\n",
    "\n"
   ]
  },
  {
   "cell_type": "markdown",
   "metadata": {},
   "source": [
    "## Reference\n",
    "\n",
    "- https://wikidocs.net/50698\n",
    "\n",
    "- https://jiho-ml.com/weekly-nlp-2/"
   ]
  }
 ],
 "metadata": {
  "kernelspec": {
   "display_name": "Python 3",
   "language": "python",
   "name": "python3"
  },
  "language_info": {
   "codemirror_mode": {
    "name": "ipython",
    "version": 3
   },
   "file_extension": ".py",
   "mimetype": "text/x-python",
   "name": "python",
   "nbconvert_exporter": "python",
   "pygments_lexer": "ipython3",
   "version": "3.6.7"
  }
 },
 "nbformat": 4,
 "nbformat_minor": 2
}
